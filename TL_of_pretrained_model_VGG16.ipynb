{
  "cells": [
    {
      "cell_type": "code",
      "execution_count": null,
      "metadata": {
        "id": "sU4zhUS4KgOC"
      },
      "outputs": [],
      "source": [
        "import tensorflow as tf\n",
        "import numpy as np\n",
        "from tensorflow.keras.datasets import mnist\n",
        "from tensorflow.keras.utils import to_categorical\n",
        "from tensorflow.keras.models import Sequential\n",
        "from tensorflow.keras.layers import Conv2D, MaxPooling2D, Dense, Flatten, Dropout"
      ]
    },
    {
      "cell_type": "code",
      "execution_count": null,
      "metadata": {
        "colab": {
          "base_uri": "https://localhost:8080/"
        },
        "id": "1RpMfKlBKrIg",
        "outputId": "5df7bdb8-670f-44be-bb80-7fa910e6078f"
      },
      "outputs": [
        {
          "output_type": "execute_result",
          "data": {
            "text/plain": [
              "((60000, 48, 48), (10000, 48, 48))"
            ]
          },
          "metadata": {},
          "execution_count": 2
        }
      ],
      "source": [
        "# Load the MNIST dataset\n",
        "(x_train, y_train), (x_test, y_test) = mnist.load_data()\n",
        "\n",
        "x_train = np.pad(x_train, ((0,0),(10,10),(10,10)), 'constant')\n",
        "x_test = np.pad(x_test,((0,0),(10,10),(10,10)),'constant')\n",
        "\n",
        "x_train.shape,x_test.shape"
      ]
    },
    {
      "cell_type": "code",
      "execution_count": null,
      "metadata": {
        "id": "dViBzo04KtAX"
      },
      "outputs": [],
      "source": [
        "# Normalize the pixel values to be between 0 and 1\n",
        "x_train = x_train.astype('float32') / 255\n",
        "x_test = x_test.astype('float32') / 255"
      ]
    },
    {
      "cell_type": "code",
      "execution_count": null,
      "metadata": {
        "colab": {
          "base_uri": "https://localhost:8080/"
        },
        "id": "2sL_TB1BKx-3",
        "outputId": "2ed528e2-1bfe-4dad-e62d-6c00fddc17b7"
      },
      "outputs": [
        {
          "output_type": "execute_result",
          "data": {
            "text/plain": [
              "(60000, 48, 48, 3)"
            ]
          },
          "metadata": {},
          "execution_count": 4
        }
      ],
      "source": [
        "# Convert Data to 3 Channel\n",
        "x_train=np.stack((x_train,)*3, axis=-1)\n",
        "x_test=np.stack((x_test,)*3, axis=-1)\n",
        "x_train.shape"
      ]
    },
    {
      "cell_type": "code",
      "execution_count": null,
      "metadata": {
        "id": "q8w8iFArKytX"
      },
      "outputs": [],
      "source": [
        "# Convert the labels to categorical one-hot encoding\n",
        "y_train = to_categorical(y_train)\n",
        "y_test = to_categorical(y_test)"
      ]
    },
    {
      "cell_type": "code",
      "execution_count": null,
      "metadata": {
        "id": "oL6XD-eqK2ZN"
      },
      "outputs": [],
      "source": [
        "# TL Model\n",
        "from tensorflow.keras.applications.resnet50 import ResNet50\n",
        "from tensorflow.keras.applications.vgg16 import VGG16"
      ]
    },
    {
      "cell_type": "code",
      "execution_count": null,
      "metadata": {
        "colab": {
          "base_uri": "https://localhost:8080/"
        },
        "id": "b867y7qrK7_0",
        "outputId": "7547a357-eea1-4a79-9567-1ce5bd2b02d5"
      },
      "outputs": [
        {
          "output_type": "stream",
          "name": "stdout",
          "text": [
            "Model: \"sequential\"\n",
            "_________________________________________________________________\n",
            " Layer (type)                Output Shape              Param #   \n",
            "=================================================================\n",
            " vgg16 (Functional)          (None, 512)               14714688  \n",
            "                                                                 \n",
            " dense (Dense)               (None, 512)               262656    \n",
            "                                                                 \n",
            " dense_1 (Dense)             (None, 10)                5130      \n",
            "                                                                 \n",
            "=================================================================\n",
            "Total params: 14,982,474\n",
            "Trainable params: 267,786\n",
            "Non-trainable params: 14,714,688\n",
            "_________________________________________________________________\n"
          ]
        }
      ],
      "source": [
        "model=Sequential([\n",
        "  VGG16(include_top=False, pooling='avg', weights='imagenet',input_shape=(48,48,3)),\n",
        "  Dense(512, activation='relu'),\n",
        "  Dense(10, activation='softmax')]\n",
        ")\n",
        "# Set Resnet Layers not trainable\n",
        "model.layers[0].trainable=False\n",
        "model.summary()"
      ]
    },
    {
      "cell_type": "code",
      "execution_count": null,
      "metadata": {
        "id": "qnvUBg80K-1Z"
      },
      "outputs": [],
      "source": [
        "# Compile the model\n",
        "model.compile(optimizer='adam', loss='categorical_crossentropy', metrics=['accuracy'])"
      ]
    },
    {
      "cell_type": "code",
      "execution_count": null,
      "metadata": {
        "colab": {
          "base_uri": "https://localhost:8080/"
        },
        "id": "z9MEVV83Llei",
        "outputId": "d854b17e-5c70-4600-e08f-8dc8d1488e04"
      },
      "outputs": [
        {
          "output_type": "stream",
          "name": "stdout",
          "text": [
            "Epoch 1/10\n",
            "469/469 [==============================] - 29s 47ms/step - loss: 0.5327 - accuracy: 0.8465 - val_loss: 0.2345 - val_accuracy: 0.9311\n",
            "Epoch 2/10\n",
            "469/469 [==============================] - 18s 38ms/step - loss: 0.2022 - accuracy: 0.9398 - val_loss: 0.1537 - val_accuracy: 0.9570\n",
            "Epoch 3/10\n",
            "469/469 [==============================] - 17s 37ms/step - loss: 0.1606 - accuracy: 0.9512 - val_loss: 0.1321 - val_accuracy: 0.9609\n",
            "Epoch 4/10\n",
            "469/469 [==============================] - 17s 37ms/step - loss: 0.1362 - accuracy: 0.9574 - val_loss: 0.1192 - val_accuracy: 0.9632\n",
            "Epoch 5/10\n",
            "469/469 [==============================] - 17s 36ms/step - loss: 0.1272 - accuracy: 0.9598 - val_loss: 0.1372 - val_accuracy: 0.9562\n",
            "Epoch 6/10\n",
            "469/469 [==============================] - 17s 37ms/step - loss: 0.1153 - accuracy: 0.9647 - val_loss: 0.1066 - val_accuracy: 0.9677\n",
            "Epoch 7/10\n",
            "469/469 [==============================] - 17s 36ms/step - loss: 0.1080 - accuracy: 0.9664 - val_loss: 0.1134 - val_accuracy: 0.9629\n",
            "Epoch 8/10\n",
            "469/469 [==============================] - 17s 37ms/step - loss: 0.1028 - accuracy: 0.9682 - val_loss: 0.1037 - val_accuracy: 0.9651\n",
            "Epoch 9/10\n",
            "469/469 [==============================] - 17s 37ms/step - loss: 0.0993 - accuracy: 0.9684 - val_loss: 0.0903 - val_accuracy: 0.9731\n",
            "Epoch 10/10\n",
            "469/469 [==============================] - 17s 37ms/step - loss: 0.0926 - accuracy: 0.9706 - val_loss: 0.1020 - val_accuracy: 0.9680\n"
          ]
        },
        {
          "output_type": "execute_result",
          "data": {
            "text/plain": [
              "<keras.callbacks.History at 0x7fc084d97430>"
            ]
          },
          "metadata": {},
          "execution_count": 9
        }
      ],
      "source": [
        "# Train the model\n",
        "model.fit(x_train, y_train, epochs=10, batch_size=128, validation_data=(x_test, y_test))"
      ]
    },
    {
      "cell_type": "code",
      "execution_count": null,
      "metadata": {
        "colab": {
          "base_uri": "https://localhost:8080/"
        },
        "id": "3c1YIHUWLybp",
        "outputId": "f1181668-a6fd-45fb-c640-07c0f41fc565"
      },
      "outputs": [
        {
          "output_type": "stream",
          "name": "stdout",
          "text": [
            "313/313 - 4s - loss: 0.1020 - accuracy: 0.9680 - 4s/epoch - 13ms/step\n",
            "Test accuracy: 96.79999947547913 %\n"
          ]
        }
      ],
      "source": [
        "# Evaluate the model on the test data\n",
        "test_loss, test_acc = model.evaluate(x_test, y_test, verbose=2)\n",
        "print('Test accuracy:', test_acc * 100, '%')"
      ]
    },
    {
      "cell_type": "code",
      "source": [
        "# Saving the model\n",
        "model.save(\"pretrained_vgg.h5\")"
      ],
      "metadata": {
        "id": "hgUF6LJbxZgB"
      },
      "execution_count": null,
      "outputs": []
    },
    {
      "cell_type": "markdown",
      "source": [
        "# Visualize prediction"
      ],
      "metadata": {
        "id": "CFAMitONvJRG"
      }
    },
    {
      "cell_type": "code",
      "source": [
        "import matplotlib.pyplot as plt\n",
        "pred = model.predict(x_test) \n",
        "pred = np.argmax(pred,axis=1)\n",
        "truth = np.argmax(y_test,axis=1)"
      ],
      "metadata": {
        "colab": {
          "base_uri": "https://localhost:8080/"
        },
        "id": "uyfwe-AUytP_",
        "outputId": "c4ec1d65-571a-417f-877f-8016209bf2fc"
      },
      "execution_count": null,
      "outputs": [
        {
          "output_type": "stream",
          "name": "stdout",
          "text": [
            "313/313 [==============================] - 4s 11ms/step\n"
          ]
        }
      ]
    },
    {
      "cell_type": "code",
      "source": [
        "plt.figure(figsize=(10,10))\n",
        "for ind in range(9):\n",
        "  plt.subplot(3,3,ind+1)\n",
        "  plt.imshow(x_test[ind])\n",
        "  plt.xlabel(f\"Truth: {truth[ind]}, Predicted: {pred[ind]}\",fontsize=10)\n",
        "  plt.axis('off')\n",
        "\n",
        "plt.title(\"mnist dataset predictions\")\n",
        "plt.show()"
      ],
      "metadata": {
        "colab": {
          "base_uri": "https://localhost:8080/",
          "height": 807
        },
        "id": "2B3asbFIvFXo",
        "outputId": "560c6aff-5e60-48c7-e00b-b5dd2abe402a"
      },
      "execution_count": null,
      "outputs": [
        {
          "output_type": "display_data",
          "data": {
            "text/plain": [
              "<Figure size 1000x1000 with 9 Axes>"
            ],
            "image/png": "[encoded data removed]"
          },
          "metadata": {}
        }
      ]
    },
    {
      "cell_type": "code",
      "source": [],
      "metadata": {
        "id": "1gYWbK-_ylhU"
      },
      "execution_count": null,
      "outputs": []
    }
  ],
  "metadata": {
    "colab": {
      "provenance": []
    },
    "kernelspec": {
      "display_name": "Python 3",
      "name": "python3"
    },
    "language_info": {
      "name": "python"
    },
    "accelerator": "GPU",
    "gpuClass": "standard"
  },
  "nbformat": 4,
  "nbformat_minor": 0
}