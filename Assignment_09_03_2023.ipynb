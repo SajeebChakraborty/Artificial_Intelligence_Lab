{
  "nbformat": 4,
  "nbformat_minor": 0,
  "metadata": {
    "colab": {
      "provenance": []
    },
    "kernelspec": {
      "name": "python3",
      "display_name": "Python 3"
    },
    "language_info": {
      "name": "python"
    }
  },
  "cells": [
    {
      "cell_type": "code",
      "execution_count": 41,
      "metadata": {
        "id": "6OREEKRmzKIn"
      },
      "outputs": [],
      "source": [
        "import tensorflow as tf\n",
        "from tensorflow import keras\n",
        "from tensorflow.keras import layers\n",
        "import matplotlib.pyplot as plt\n",
        "import numpy as np"
      ]
    },
    {
      "cell_type": "code",
      "source": [
        "# MNIST dataset loaded for training and testing\n",
        "(x_train, y_train), (x_test, y_test) = keras.datasets.mnist.load_data()"
      ],
      "metadata": {
        "id": "CQBWG8hZ1LYN"
      },
      "execution_count": 42,
      "outputs": []
    },
    {
      "cell_type": "code",
      "source": [
        "# Show one image for each of the digits 0 to 9\n",
        "fig, axes = plt.subplots(nrows=1, ncols=10, figsize=(10, 100))\n",
        "\n",
        "for i in range(10):\n",
        "\n",
        "    idx = y_train == i # show 0 to 9\n",
        "    axes[i].imshow(x_train[idx][0], cmap=\"gray\") #show image\n",
        "    axes[i].set_title(str(i)) # set title\n",
        "    axes[i].axis(\"off\") # hide axes"
      ],
      "metadata": {
        "colab": {
          "base_uri": "https://localhost:8080/",
          "height": 94
        },
        "id": "3YBPgozD1Ovs",
        "outputId": "0f28a7ef-f0c1-477c-a950-179a47404662"
      },
      "execution_count": 44,
      "outputs": [
        {
          "output_type": "display_data",
          "data": {
            "text/plain": [
              "<Figure size 720x7200 with 10 Axes>"
            ],
            "image/png": "[encoded data removed]"
          },
          "metadata": {
            "needs_background": "light"
          }
        }
      ]
    },
    {
      "cell_type": "code",
      "source": [
        "# Normalize the input data\n",
        "x_train = x_train.astype(\"float32\") / 255.0 # train data converted between 0 to 1 for faster training\n",
        "x_test = x_test.astype(\"float32\") / 255.0 # tested data converted between 0 to 1 for faster training"
      ],
      "metadata": {
        "id": "2rzU9OC41S4d"
      },
      "execution_count": 45,
      "outputs": []
    },
    {
      "cell_type": "code",
      "source": [
        "# Convert the labels to one-hot encoding.One-hot encoding is a process of converting categorical data into a binary vector where only one element is set to 1, and all other elements are set to 0.\n",
        "y_train = keras.utils.to_categorical(y_train, 10) # here 10 is number of class\n",
        "y_test = keras.utils.to_categorical(y_test, 10)"
      ],
      "metadata": {
        "id": "e03rBbRT1V40"
      },
      "execution_count": 46,
      "outputs": []
    },
    {
      "cell_type": "code",
      "source": [
        "# Define the model architecture\n",
        "model = keras.Sequential([\n",
        "    layers.Flatten(input_shape=(28, 28)), # both width,height is 28\n",
        "    layers.Dense(128, activation=\"relu\"), # use 128 neuron and Rectified Linear Unit (ReLU) activation function\n",
        "    layers.Dense(64, activation=\"relu\"),\n",
        "    layers.Dense(32, activation=\"relu\"),\n",
        "    layers.Dense(10, activation=\"softmax\")\n",
        "])"
      ],
      "metadata": {
        "id": "XYK9kK0j1prL"
      },
      "execution_count": 47,
      "outputs": []
    },
    {
      "cell_type": "code",
      "source": [
        "# Compile the model\n",
        "model.compile(loss=\"categorical_crossentropy\", optimizer=\"adam\", metrics=[\"accuracy\"]) # here categorical_crossentropy used for multi-class classification problems\n"
      ],
      "metadata": {
        "id": "9jX9h-7F1trm"
      },
      "execution_count": 48,
      "outputs": []
    },
    {
      "cell_type": "code",
      "source": [
        "# Train the model\n",
        "history = model.fit(x_train, y_train, batch_size=128, epochs=50, validation_split=0.2) # here 20% of the training data will be split into a validation set, and the remaining 80% will be used for training"
      ],
      "metadata": {
        "colab": {
          "base_uri": "https://localhost:8080/"
        },
        "id": "6jebdXj-1xlr",
        "outputId": "132b9c03-44f2-42b9-9d37-4c8a2469ac66"
      },
      "execution_count": 49,
      "outputs": [
        {
          "output_type": "stream",
          "name": "stdout",
          "text": [
            "Epoch 1/50\n",
            "375/375 [==============================] - 4s 7ms/step - loss: 0.3867 - accuracy: 0.8847 - val_loss: 0.1613 - val_accuracy: 0.9519\n",
            "Epoch 2/50\n",
            "375/375 [==============================] - 2s 6ms/step - loss: 0.1466 - accuracy: 0.9558 - val_loss: 0.1139 - val_accuracy: 0.9664\n",
            "Epoch 3/50\n",
            "375/375 [==============================] - 2s 6ms/step - loss: 0.1012 - accuracy: 0.9697 - val_loss: 0.1036 - val_accuracy: 0.9683\n",
            "Epoch 4/50\n",
            "375/375 [==============================] - 3s 9ms/step - loss: 0.0785 - accuracy: 0.9762 - val_loss: 0.0937 - val_accuracy: 0.9714\n",
            "Epoch 5/50\n",
            "375/375 [==============================] - 2s 7ms/step - loss: 0.0626 - accuracy: 0.9811 - val_loss: 0.0973 - val_accuracy: 0.9710\n",
            "Epoch 6/50\n",
            "375/375 [==============================] - 2s 6ms/step - loss: 0.0500 - accuracy: 0.9846 - val_loss: 0.0896 - val_accuracy: 0.9737\n",
            "Epoch 7/50\n",
            "375/375 [==============================] - 2s 6ms/step - loss: 0.0401 - accuracy: 0.9881 - val_loss: 0.0945 - val_accuracy: 0.9748\n",
            "Epoch 8/50\n",
            "375/375 [==============================] - 2s 6ms/step - loss: 0.0332 - accuracy: 0.9894 - val_loss: 0.0909 - val_accuracy: 0.9743\n",
            "Epoch 9/50\n",
            "375/375 [==============================] - 3s 9ms/step - loss: 0.0295 - accuracy: 0.9906 - val_loss: 0.1108 - val_accuracy: 0.9711\n",
            "Epoch 10/50\n",
            "375/375 [==============================] - 2s 6ms/step - loss: 0.0240 - accuracy: 0.9919 - val_loss: 0.1031 - val_accuracy: 0.9750\n",
            "Epoch 11/50\n",
            "375/375 [==============================] - 2s 6ms/step - loss: 0.0180 - accuracy: 0.9946 - val_loss: 0.1040 - val_accuracy: 0.9747\n",
            "Epoch 12/50\n",
            "375/375 [==============================] - 2s 6ms/step - loss: 0.0186 - accuracy: 0.9935 - val_loss: 0.1085 - val_accuracy: 0.9732\n",
            "Epoch 13/50\n",
            "375/375 [==============================] - 2s 6ms/step - loss: 0.0174 - accuracy: 0.9945 - val_loss: 0.1131 - val_accuracy: 0.9734\n",
            "Epoch 14/50\n",
            "375/375 [==============================] - 3s 9ms/step - loss: 0.0144 - accuracy: 0.9953 - val_loss: 0.1127 - val_accuracy: 0.9750\n",
            "Epoch 15/50\n",
            "375/375 [==============================] - 2s 6ms/step - loss: 0.0122 - accuracy: 0.9964 - val_loss: 0.1254 - val_accuracy: 0.9735\n",
            "Epoch 16/50\n",
            "375/375 [==============================] - 2s 6ms/step - loss: 0.0146 - accuracy: 0.9952 - val_loss: 0.1200 - val_accuracy: 0.9768\n",
            "Epoch 17/50\n",
            "375/375 [==============================] - 2s 6ms/step - loss: 0.0121 - accuracy: 0.9959 - val_loss: 0.1348 - val_accuracy: 0.9740\n",
            "Epoch 18/50\n",
            "375/375 [==============================] - 3s 7ms/step - loss: 0.0130 - accuracy: 0.9954 - val_loss: 0.1218 - val_accuracy: 0.9762\n",
            "Epoch 19/50\n",
            "375/375 [==============================] - 3s 9ms/step - loss: 0.0111 - accuracy: 0.9963 - val_loss: 0.1240 - val_accuracy: 0.9764\n",
            "Epoch 20/50\n",
            "375/375 [==============================] - 2s 6ms/step - loss: 0.0120 - accuracy: 0.9958 - val_loss: 0.1576 - val_accuracy: 0.9703\n",
            "Epoch 21/50\n",
            "375/375 [==============================] - 2s 6ms/step - loss: 0.0094 - accuracy: 0.9967 - val_loss: 0.1234 - val_accuracy: 0.9768\n",
            "Epoch 22/50\n",
            "375/375 [==============================] - 2s 6ms/step - loss: 0.0058 - accuracy: 0.9982 - val_loss: 0.1369 - val_accuracy: 0.9760\n",
            "Epoch 23/50\n",
            "375/375 [==============================] - 3s 8ms/step - loss: 0.0040 - accuracy: 0.9987 - val_loss: 0.1276 - val_accuracy: 0.9772\n",
            "Epoch 24/50\n",
            "375/375 [==============================] - 4s 10ms/step - loss: 0.0100 - accuracy: 0.9967 - val_loss: 0.1297 - val_accuracy: 0.9754\n",
            "Epoch 25/50\n",
            "375/375 [==============================] - 2s 6ms/step - loss: 0.0127 - accuracy: 0.9957 - val_loss: 0.1313 - val_accuracy: 0.9766\n",
            "Epoch 26/50\n",
            "375/375 [==============================] - 2s 6ms/step - loss: 0.0055 - accuracy: 0.9982 - val_loss: 0.1481 - val_accuracy: 0.9746\n",
            "Epoch 27/50\n",
            "375/375 [==============================] - 2s 6ms/step - loss: 0.0068 - accuracy: 0.9977 - val_loss: 0.1438 - val_accuracy: 0.9759\n",
            "Epoch 28/50\n",
            "375/375 [==============================] - 2s 6ms/step - loss: 0.0079 - accuracy: 0.9974 - val_loss: 0.1514 - val_accuracy: 0.9754\n",
            "Epoch 29/50\n",
            "375/375 [==============================] - 3s 9ms/step - loss: 0.0108 - accuracy: 0.9964 - val_loss: 0.1535 - val_accuracy: 0.9753\n",
            "Epoch 30/50\n",
            "375/375 [==============================] - 2s 6ms/step - loss: 0.0084 - accuracy: 0.9974 - val_loss: 0.1654 - val_accuracy: 0.9720\n",
            "Epoch 31/50\n",
            "375/375 [==============================] - 2s 6ms/step - loss: 0.0109 - accuracy: 0.9965 - val_loss: 0.1512 - val_accuracy: 0.9751\n",
            "Epoch 32/50\n",
            "375/375 [==============================] - 2s 6ms/step - loss: 0.0035 - accuracy: 0.9989 - val_loss: 0.1370 - val_accuracy: 0.9787\n",
            "Epoch 33/50\n",
            "375/375 [==============================] - 2s 6ms/step - loss: 0.0019 - accuracy: 0.9995 - val_loss: 0.1477 - val_accuracy: 0.9769\n",
            "Epoch 34/50\n",
            "375/375 [==============================] - 3s 9ms/step - loss: 0.0078 - accuracy: 0.9974 - val_loss: 0.1550 - val_accuracy: 0.9748\n",
            "Epoch 35/50\n",
            "375/375 [==============================] - 2s 6ms/step - loss: 0.0046 - accuracy: 0.9985 - val_loss: 0.1640 - val_accuracy: 0.9743\n",
            "Epoch 36/50\n",
            "375/375 [==============================] - 2s 6ms/step - loss: 0.0105 - accuracy: 0.9967 - val_loss: 0.1477 - val_accuracy: 0.9779\n",
            "Epoch 37/50\n",
            "375/375 [==============================] - 2s 6ms/step - loss: 0.0061 - accuracy: 0.9981 - val_loss: 0.1490 - val_accuracy: 0.9768\n",
            "Epoch 38/50\n",
            "375/375 [==============================] - 2s 6ms/step - loss: 0.0033 - accuracy: 0.9990 - val_loss: 0.1596 - val_accuracy: 0.9755\n",
            "Epoch 39/50\n",
            "375/375 [==============================] - 3s 9ms/step - loss: 0.0031 - accuracy: 0.9991 - val_loss: 0.2004 - val_accuracy: 0.9719\n",
            "Epoch 40/50\n",
            "375/375 [==============================] - 2s 6ms/step - loss: 0.0060 - accuracy: 0.9982 - val_loss: 0.1844 - val_accuracy: 0.9715\n",
            "Epoch 41/50\n",
            "375/375 [==============================] - 2s 6ms/step - loss: 0.0089 - accuracy: 0.9970 - val_loss: 0.1509 - val_accuracy: 0.9768\n",
            "Epoch 42/50\n",
            "375/375 [==============================] - 2s 6ms/step - loss: 0.0057 - accuracy: 0.9986 - val_loss: 0.1543 - val_accuracy: 0.9765\n",
            "Epoch 43/50\n",
            "375/375 [==============================] - 2s 7ms/step - loss: 0.0020 - accuracy: 0.9993 - val_loss: 0.1484 - val_accuracy: 0.9773\n",
            "Epoch 44/50\n",
            "375/375 [==============================] - 3s 9ms/step - loss: 5.5968e-04 - accuracy: 0.9999 - val_loss: 0.1433 - val_accuracy: 0.9790\n",
            "Epoch 45/50\n",
            "375/375 [==============================] - 2s 6ms/step - loss: 8.8065e-04 - accuracy: 0.9998 - val_loss: 0.1554 - val_accuracy: 0.9776\n",
            "Epoch 46/50\n",
            "375/375 [==============================] - 2s 6ms/step - loss: 0.0082 - accuracy: 0.9976 - val_loss: 0.1956 - val_accuracy: 0.9703\n",
            "Epoch 47/50\n",
            "375/375 [==============================] - 2s 6ms/step - loss: 0.0134 - accuracy: 0.9961 - val_loss: 0.1656 - val_accuracy: 0.9761\n",
            "Epoch 48/50\n",
            "375/375 [==============================] - 2s 6ms/step - loss: 0.0073 - accuracy: 0.9979 - val_loss: 0.1758 - val_accuracy: 0.9742\n",
            "Epoch 49/50\n",
            "375/375 [==============================] - 4s 9ms/step - loss: 0.0041 - accuracy: 0.9987 - val_loss: 0.1730 - val_accuracy: 0.9754\n",
            "Epoch 50/50\n",
            "375/375 [==============================] - 2s 6ms/step - loss: 0.0042 - accuracy: 0.9987 - val_loss: 0.1582 - val_accuracy: 0.9769\n"
          ]
        }
      ]
    },
    {
      "cell_type": "code",
      "source": [
        "# Evaluate the model based on the test data\n",
        "\n",
        "test_loss, test_acc = model.evaluate(x_test, y_test)\n",
        "print(\"Test accuracy:\", test_acc)"
      ],
      "metadata": {
        "colab": {
          "base_uri": "https://localhost:8080/"
        },
        "id": "E6LawM1W2X7U",
        "outputId": "5e505d04-73d8-46f6-a8e4-0ba4c4c76e2e"
      },
      "execution_count": 50,
      "outputs": [
        {
          "output_type": "stream",
          "name": "stdout",
          "text": [
            "313/313 [==============================] - 1s 2ms/step - loss: 0.1356 - accuracy: 0.9788\n",
            "Test accuracy: 0.9787999987602234\n"
          ]
        }
      ]
    },
    {
      "cell_type": "code",
      "source": [
        "# Dictionary created to map the digit labels (0 to 9) to their corresponding images\n",
        "\n",
        "digit_to_img = {i: x_test[np.where(y_test[:, i] == 1)[0][0]].reshape(28, 28) for i in range(10)}"
      ],
      "metadata": {
        "id": "gG2r_d8R2Z_T"
      },
      "execution_count": 51,
      "outputs": []
    },
    {
      "cell_type": "code",
      "source": [
        "# Infinite loop for taking input one more times.\n",
        "\n",
        "while True:\n",
        "\n",
        "    input_data = input('Take a input from a digit (0-9) : ')\n",
        "    \n",
        "    # Break the loop if input is -1\n",
        "    if input_data == '-999':\n",
        "\n",
        "        break\n",
        "        \n",
        "    # Show the image for a given input digit\n",
        "    if input_data.isdigit() and int(input_data) in digit_to_img:\n",
        "\n",
        "        plt.imshow(digit_to_img[int(input_data)], cmap='gray')\n",
        "\n",
        "        plt.show()\n",
        "        \n",
        "    # Show all of digit images in a grid section\n",
        "    elif input_data == 'all':\n",
        "\n",
        "        fig, axs = plt.subplots(2, 5, figsize=(12, 6))\n",
        "\n",
        "        axs = axs.flatten()\n",
        "\n",
        "        for i in range(10):\n",
        "\n",
        "            axs[i].imshow(digit_to_img[i], cmap='gray')\n",
        "            axs[i].set_title(str(i))\n",
        "            axs[i].axis('off')\n",
        "\n",
        "        plt.show()\n",
        "        \n",
        "    # Notify user to take valid input\n",
        "    else:\n",
        "        print('Invalid Input ! For valid, Given a digit between (0-9) or \"plot\".')"
      ],
      "metadata": {
        "colab": {
          "base_uri": "https://localhost:8080/",
          "height": 565
        },
        "id": "gTVrGbqc2dpL",
        "outputId": "ca6fab4e-2516-4e0e-802d-2e16b552a642"
      },
      "execution_count": 52,
      "outputs": [
        {
          "name": "stdout",
          "output_type": "stream",
          "text": [
            "Take a input from a digit (0-9) : 2\n"
          ]
        },
        {
          "output_type": "display_data",
          "data": {
            "text/plain": [
              "<Figure size 432x288 with 1 Axes>"
            ],
            "image/png": "[encoded data removed]"
          },
          "metadata": {
            "needs_background": "light"
          }
        },
        {
          "name": "stdout",
          "output_type": "stream",
          "text": [
            "Take a input from a digit (0-9) : 3\n"
          ]
        },
        {
          "output_type": "display_data",
          "data": {
            "text/plain": [
              "<Figure size 432x288 with 1 Axes>"
            ],
            "image/png": "[encoded data removed]"
          },
          "metadata": {
            "needs_background": "light"
          }
        },
        {
          "name": "stdout",
          "output_type": "stream",
          "text": [
            "Take a input from a digit (0-9) : -999\n"
          ]
        }
      ]
    }
  ]
}