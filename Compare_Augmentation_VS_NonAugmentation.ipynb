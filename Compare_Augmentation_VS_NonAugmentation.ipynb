{
  "nbformat": 4,
  "nbformat_minor": 0,
  "metadata": {
    "colab": {
      "provenance": []
    },
    "kernelspec": {
      "name": "python3",
      "display_name": "Python 3"
    },
    "language_info": {
      "name": "python"
    }
  },
  "cells": [
    {
      "cell_type": "code",
      "execution_count": null,
      "metadata": {
        "id": "v5wp7G-e4vH7"
      },
      "outputs": [],
      "source": [
        "#import necessaries\n",
        "import tensorflow as tf\n",
        "from tensorflow import keras\n",
        "from tensorflow.keras.datasets import mnist\n",
        "from tensorflow.keras.preprocessing.image import ImageDataGenerator\n",
        "import numpy as np\n",
        "import matplotlib.pyplot as plt\n",
        "from tensorflow.keras.models import Sequential\n",
        "from tensorflow.keras.layers import Dense, Flatten\n"
      ]
    },
    {
      "cell_type": "code",
      "source": [
        "# MNIST dataset loaded for training and testing\n",
        "(x_train, y_train), (x_test, y_test) = mnist.load_data()\n"
      ],
      "metadata": {
        "id": "mhtCBoOH4z1q"
      },
      "execution_count": null,
      "outputs": []
    },
    {
      "cell_type": "code",
      "source": [
        "# Normalize and Reshape the input data# Normalize the input data\n",
        "x_train = x_train.reshape((60000, 28, 28, 1)) / 255.0\n",
        "x_test = x_test.reshape((10000, 28, 28, 1)) / 255.0\n",
        "\n",
        "# Convert the labels to one-hot encoding.One-hot encoding is a process of converting categorical data into a binary vector where only one element is set to 1, and all other elements are set to 0.\n",
        "y_train = keras.utils.to_categorical(y_train, 10)\n",
        "y_test = keras.utils.to_categorical(y_test, 10)\n"
      ],
      "metadata": {
        "id": "6HBjc_ZO40_s"
      },
      "execution_count": null,
      "outputs": []
    },
    {
      "cell_type": "code",
      "source": [
        "# Show one image for each of the digits 0 to 9\n",
        "fig = plt.figure(figsize=(15, 2))\n",
        "print(x_train.shape)\n",
        "for i, image in enumerate(x_train[:10]):\n",
        "    # Create a new subplot for each image\n",
        "    plt.subplot(1, 10, i+1)\n",
        "    plt.xticks([])\n",
        "    plt.yticks([])\n",
        "    plt.grid(False)\n",
        "    plt.imshow(image, cmap=plt.cm.binary)\n",
        "    plt.xlabel(y_train[i])\n",
        "\n",
        "\n",
        "plt.show()"
      ],
      "metadata": {
        "colab": {
          "base_uri": "https://localhost:8080/",
          "height": 202
        },
        "id": "7SWTPOTd45Kj",
        "outputId": "34c13ff6-f102-4b6d-cec0-9302ae3688b5"
      },
      "execution_count": null,
      "outputs": [
        {
          "output_type": "stream",
          "name": "stdout",
          "text": [
            "(60000, 28, 28, 1)\n"
          ]
        },
        {
          "output_type": "stream",
          "name": "stderr",
          "text": [
            "/usr/local/lib/python3.9/dist-packages/matplotlib/text.py:1279: FutureWarning: elementwise comparison failed; returning scalar instead, but in the future will perform elementwise comparison\n",
            "  if s != self._text:\n"
          ]
        },
        {
          "output_type": "display_data",
          "data": {
            "text/plain": [
              "<Figure size 1500x200 with 10 Axes>"
            ],
            "image/png": "[encoded data removed]"
          },
          "metadata": {}
        }
      ]
    },
    {
      "cell_type": "code",
      "source": [
        "# Define the model architecture\n",
        "model = Sequential([\n",
        "    Flatten(input_shape=(28, 28, 1)),\n",
        "    Dense(128, activation='relu'),\n",
        "    Dense(64, activation='relu'),\n",
        "    Dense(32, activation='relu'),\n",
        "    Dense(10, activation='softmax')\n",
        "])\n"
      ],
      "metadata": {
        "id": "CEH--ugU4_lU"
      },
      "execution_count": null,
      "outputs": []
    },
    {
      "cell_type": "code",
      "source": [
        "# Compile the model\n",
        "model.compile(optimizer='adam', loss='categorical_crossentropy', metrics=['accuracy'])\n"
      ],
      "metadata": {
        "id": "KMDONUAc5B2s"
      },
      "execution_count": null,
      "outputs": []
    },
    {
      "cell_type": "code",
      "source": [
        "# Before Augmentation\n",
        "\n",
        "model.fit(x_train, y_train, epochs=10, batch_size=128)"
      ],
      "metadata": {
        "colab": {
          "base_uri": "https://localhost:8080/"
        },
        "id": "7JgtonKwfH2d",
        "outputId": "d04bd4e2-f712-46fb-8228-2232b7ba3459"
      },
      "execution_count": null,
      "outputs": [
        {
          "output_type": "stream",
          "name": "stdout",
          "text": [
            "Epoch 1/10\n",
            "469/469 [==============================] - 4s 6ms/step - loss: 0.3449 - accuracy: 0.9006\n",
            "Epoch 2/10\n",
            "469/469 [==============================] - 3s 7ms/step - loss: 0.1283 - accuracy: 0.9625\n",
            "Epoch 3/10\n",
            "469/469 [==============================] - 2s 5ms/step - loss: 0.0896 - accuracy: 0.9735\n",
            "Epoch 4/10\n",
            "469/469 [==============================] - 3s 5ms/step - loss: 0.0685 - accuracy: 0.9793\n",
            "Epoch 5/10\n",
            "469/469 [==============================] - 2s 5ms/step - loss: 0.0530 - accuracy: 0.9838\n",
            "Epoch 6/10\n",
            "469/469 [==============================] - 3s 7ms/step - loss: 0.0416 - accuracy: 0.9873\n",
            "Epoch 7/10\n",
            "469/469 [==============================] - 3s 6ms/step - loss: 0.0351 - accuracy: 0.9893\n",
            "Epoch 8/10\n",
            "469/469 [==============================] - 3s 6ms/step - loss: 0.0301 - accuracy: 0.9904\n",
            "Epoch 9/10\n",
            "469/469 [==============================] - 3s 5ms/step - loss: 0.0255 - accuracy: 0.9916\n",
            "Epoch 10/10\n",
            "469/469 [==============================] - 2s 5ms/step - loss: 0.0218 - accuracy: 0.9928\n"
          ]
        },
        {
          "output_type": "execute_result",
          "data": {
            "text/plain": [
              "<keras.callbacks.History at 0x7fd5f41cbbb0>"
            ]
          },
          "metadata": {},
          "execution_count": 9
        }
      ]
    },
    {
      "cell_type": "code",
      "source": [
        "# Before Augmentation\n",
        "test_loss, test_acc = model.evaluate(x_test, y_test)\n",
        "print(x_train.shape)\n",
        "\n",
        "print('Test accuracy before augmentation:', test_acc)"
      ],
      "metadata": {
        "colab": {
          "base_uri": "https://localhost:8080/"
        },
        "id": "u8g6Eqi-fNnT",
        "outputId": "4744d539-22b0-490e-d658-146bbcda9773"
      },
      "execution_count": null,
      "outputs": [
        {
          "output_type": "stream",
          "name": "stdout",
          "text": [
            "313/313 [==============================] - 1s 2ms/step - loss: 0.0808 - accuracy: 0.9798\n",
            "(60000, 28, 28, 1)\n",
            "Test accuracy before augmentation: 0.9797999858856201\n"
          ]
        }
      ]
    },
    {
      "cell_type": "code",
      "source": [
        "# Augmentation parameter generated\n",
        "datagen = ImageDataGenerator(\n",
        "    rotation_range=10,\n",
        "    width_shift_range=0.1,\n",
        "    height_shift_range=0.1,\n",
        "    shear_range=0.1,\n",
        "    zoom_range=0.1,\n",
        "    fill_mode='nearest'\n",
        ")"
      ],
      "metadata": {
        "id": "NqKsMdqffUUL"
      },
      "execution_count": null,
      "outputs": []
    },
    {
      "cell_type": "code",
      "source": [
        "# Fit the train data with Augmentation\n",
        "datagen.fit(x_train)\n",
        "augmented_images = []\n",
        "for batch in datagen.flow(x_train, batch_size=len(x_train), shuffle=False):\n",
        "    augmented_images.append(batch)\n",
        "    if len(augmented_images) * len(batch) >= len(x_train) * 2:\n",
        "        break\n",
        "augmented_images = np.concatenate(augmented_images)\n",
        "y_train_augmented = np.concatenate((y_train, y_train), axis=0)\n",
        "\n",
        "\n"
      ],
      "metadata": {
        "id": "9GpKwHdw5ELr"
      },
      "execution_count": null,
      "outputs": []
    },
    {
      "cell_type": "code",
      "source": [
        "# Fit the testing data with Augmentation\n",
        "datagen.fit(x_test)\n",
        "augmented_test_data = []\n",
        "for batch in datagen.flow(x_test, batch_size=len(x_test), shuffle=False):\n",
        "    augmented_test_data.append(batch)\n",
        "    if len(augmented_test_data) * len(batch) >= len(x_test) * 2:\n",
        "        break\n",
        "augmented_test_data = np.concatenate(augmented_test_data)\n",
        "y_test_augmented = np.concatenate((y_test, y_test), axis=0)"
      ],
      "metadata": {
        "id": "5TTb1RSnBxTN"
      },
      "execution_count": null,
      "outputs": []
    },
    {
      "cell_type": "code",
      "source": [
        "b_test_acc = test_acc"
      ],
      "metadata": {
        "id": "SlRZBPG39q8L"
      },
      "execution_count": null,
      "outputs": []
    },
    {
      "cell_type": "code",
      "source": [
        "# After Augmentation\n",
        "\n",
        "model.fit(augmented_images, y_train_augmented, epochs=100, batch_size=128)\n"
      ],
      "metadata": {
        "colab": {
          "base_uri": "https://localhost:8080/"
        },
        "id": "dTvam6ZE5Rrd",
        "outputId": "febcdd09-e4c7-44ee-80ca-d74b6b8b0144"
      },
      "execution_count": null,
      "outputs": [
        {
          "output_type": "stream",
          "name": "stdout",
          "text": [
            "Epoch 1/100\n",
            "938/938 [==============================] - 4s 4ms/step - loss: 0.2585 - accuracy: 0.9230\n",
            "Epoch 2/100\n",
            "938/938 [==============================] - 4s 4ms/step - loss: 0.1370 - accuracy: 0.9576\n",
            "Epoch 3/100\n",
            "938/938 [==============================] - 5s 6ms/step - loss: 0.1063 - accuracy: 0.9669\n",
            "Epoch 4/100\n",
            "938/938 [==============================] - 5s 5ms/step - loss: 0.0884 - accuracy: 0.9722\n",
            "Epoch 5/100\n",
            "938/938 [==============================] - 4s 5ms/step - loss: 0.0746 - accuracy: 0.9761\n",
            "Epoch 6/100\n",
            "938/938 [==============================] - 6s 6ms/step - loss: 0.0645 - accuracy: 0.9793\n",
            "Epoch 7/100\n",
            "938/938 [==============================] - 4s 5ms/step - loss: 0.0570 - accuracy: 0.9815\n",
            "Epoch 8/100\n",
            "938/938 [==============================] - 6s 6ms/step - loss: 0.0492 - accuracy: 0.9838\n",
            "Epoch 9/100\n",
            "938/938 [==============================] - 5s 5ms/step - loss: 0.0441 - accuracy: 0.9855\n",
            "Epoch 10/100\n",
            "938/938 [==============================] - 5s 6ms/step - loss: 0.0393 - accuracy: 0.9868\n",
            "Epoch 11/100\n",
            "938/938 [==============================] - 5s 6ms/step - loss: 0.0346 - accuracy: 0.9882\n",
            "Epoch 12/100\n",
            "938/938 [==============================] - 5s 5ms/step - loss: 0.0339 - accuracy: 0.9884\n",
            "Epoch 13/100\n",
            "938/938 [==============================] - 6s 6ms/step - loss: 0.0273 - accuracy: 0.9906\n",
            "Epoch 14/100\n",
            "938/938 [==============================] - 5s 6ms/step - loss: 0.0284 - accuracy: 0.9899\n",
            "Epoch 15/100\n",
            "938/938 [==============================] - 6s 6ms/step - loss: 0.0252 - accuracy: 0.9914\n",
            "Epoch 16/100\n",
            "938/938 [==============================] - 5s 5ms/step - loss: 0.0240 - accuracy: 0.9917\n",
            "Epoch 17/100\n",
            "938/938 [==============================] - 5s 5ms/step - loss: 0.0224 - accuracy: 0.9923\n",
            "Epoch 18/100\n",
            "938/938 [==============================] - 6s 6ms/step - loss: 0.0221 - accuracy: 0.9925\n",
            "Epoch 19/100\n",
            "938/938 [==============================] - 5s 5ms/step - loss: 0.0196 - accuracy: 0.9935\n",
            "Epoch 20/100\n",
            "938/938 [==============================] - 6s 6ms/step - loss: 0.0207 - accuracy: 0.9929\n",
            "Epoch 21/100\n",
            "938/938 [==============================] - 5s 5ms/step - loss: 0.0177 - accuracy: 0.9940\n",
            "Epoch 22/100\n",
            "938/938 [==============================] - 6s 6ms/step - loss: 0.0175 - accuracy: 0.9941\n",
            "Epoch 23/100\n",
            "938/938 [==============================] - 5s 5ms/step - loss: 0.0158 - accuracy: 0.9946\n",
            "Epoch 24/100\n",
            "938/938 [==============================] - 4s 5ms/step - loss: 0.0171 - accuracy: 0.9941\n",
            "Epoch 25/100\n",
            "938/938 [==============================] - 6s 6ms/step - loss: 0.0146 - accuracy: 0.9951\n",
            "Epoch 26/100\n",
            "938/938 [==============================] - 4s 5ms/step - loss: 0.0184 - accuracy: 0.9939\n",
            "Epoch 27/100\n",
            "938/938 [==============================] - 4s 5ms/step - loss: 0.0147 - accuracy: 0.9951\n",
            "Epoch 28/100\n",
            "938/938 [==============================] - 6s 6ms/step - loss: 0.0126 - accuracy: 0.9958\n",
            "Epoch 29/100\n",
            "938/938 [==============================] - 4s 5ms/step - loss: 0.0161 - accuracy: 0.9947\n",
            "Epoch 30/100\n",
            "938/938 [==============================] - 6s 6ms/step - loss: 0.0142 - accuracy: 0.9951\n",
            "Epoch 31/100\n",
            "938/938 [==============================] - 5s 5ms/step - loss: 0.0148 - accuracy: 0.9950\n",
            "Epoch 32/100\n",
            "938/938 [==============================] - 5s 5ms/step - loss: 0.0145 - accuracy: 0.9951\n",
            "Epoch 33/100\n",
            "938/938 [==============================] - 6s 7ms/step - loss: 0.0123 - accuracy: 0.9956\n",
            "Epoch 34/100\n",
            "938/938 [==============================] - 5s 5ms/step - loss: 0.0126 - accuracy: 0.9958\n",
            "Epoch 35/100\n",
            "938/938 [==============================] - 6s 6ms/step - loss: 0.0144 - accuracy: 0.9952\n",
            "Epoch 36/100\n",
            "938/938 [==============================] - 5s 5ms/step - loss: 0.0125 - accuracy: 0.9959\n",
            "Epoch 37/100\n",
            "938/938 [==============================] - 5s 5ms/step - loss: 0.0098 - accuracy: 0.9967\n",
            "Epoch 38/100\n",
            "938/938 [==============================] - 6s 7ms/step - loss: 0.0152 - accuracy: 0.9951\n",
            "Epoch 39/100\n",
            "938/938 [==============================] - 4s 5ms/step - loss: 0.0100 - accuracy: 0.9966\n",
            "Epoch 40/100\n",
            "938/938 [==============================] - 6s 6ms/step - loss: 0.0132 - accuracy: 0.9955\n",
            "Epoch 41/100\n",
            "938/938 [==============================] - 5s 5ms/step - loss: 0.0103 - accuracy: 0.9966\n",
            "Epoch 42/100\n",
            "938/938 [==============================] - 5s 6ms/step - loss: 0.0122 - accuracy: 0.9959\n",
            "Epoch 43/100\n",
            "938/938 [==============================] - 5s 6ms/step - loss: 0.0096 - accuracy: 0.9968\n",
            "Epoch 44/100\n",
            "938/938 [==============================] - 5s 5ms/step - loss: 0.0111 - accuracy: 0.9963\n",
            "Epoch 45/100\n",
            "938/938 [==============================] - 6s 6ms/step - loss: 0.0120 - accuracy: 0.9962\n",
            "Epoch 46/100\n",
            "938/938 [==============================] - 5s 5ms/step - loss: 0.0100 - accuracy: 0.9967\n",
            "Epoch 47/100\n",
            "938/938 [==============================] - 6s 6ms/step - loss: 0.0107 - accuracy: 0.9967\n",
            "Epoch 48/100\n",
            "938/938 [==============================] - 5s 5ms/step - loss: 0.0107 - accuracy: 0.9966\n",
            "Epoch 49/100\n",
            "938/938 [==============================] - 5s 5ms/step - loss: 0.0108 - accuracy: 0.9963\n",
            "Epoch 50/100\n",
            "938/938 [==============================] - 5s 6ms/step - loss: 0.0099 - accuracy: 0.9968\n",
            "Epoch 51/100\n",
            "938/938 [==============================] - 4s 5ms/step - loss: 0.0088 - accuracy: 0.9973\n",
            "Epoch 52/100\n",
            "938/938 [==============================] - 5s 6ms/step - loss: 0.0105 - accuracy: 0.9965\n",
            "Epoch 53/100\n",
            "938/938 [==============================] - 5s 5ms/step - loss: 0.0098 - accuracy: 0.9968\n",
            "Epoch 54/100\n",
            "938/938 [==============================] - 4s 5ms/step - loss: 0.0078 - accuracy: 0.9975\n",
            "Epoch 55/100\n",
            "938/938 [==============================] - 6s 6ms/step - loss: 0.0094 - accuracy: 0.9968\n",
            "Epoch 56/100\n",
            "938/938 [==============================] - 4s 5ms/step - loss: 0.0116 - accuracy: 0.9963\n",
            "Epoch 57/100\n",
            "938/938 [==============================] - 5s 5ms/step - loss: 0.0093 - accuracy: 0.9970\n",
            "Epoch 58/100\n",
            "938/938 [==============================] - 6s 6ms/step - loss: 0.0086 - accuracy: 0.9972\n",
            "Epoch 59/100\n",
            "938/938 [==============================] - 5s 5ms/step - loss: 0.0082 - accuracy: 0.9974\n",
            "Epoch 60/100\n",
            "938/938 [==============================] - 6s 6ms/step - loss: 0.0097 - accuracy: 0.9969\n",
            "Epoch 61/100\n",
            "938/938 [==============================] - 5s 5ms/step - loss: 0.0079 - accuracy: 0.9974\n",
            "Epoch 62/100\n",
            "938/938 [==============================] - 6s 6ms/step - loss: 0.0091 - accuracy: 0.9971\n",
            "Epoch 63/100\n",
            "938/938 [==============================] - 5s 5ms/step - loss: 0.0072 - accuracy: 0.9977\n",
            "Epoch 64/100\n",
            "938/938 [==============================] - 5s 5ms/step - loss: 0.0096 - accuracy: 0.9967\n",
            "Epoch 65/100\n",
            "938/938 [==============================] - 6s 6ms/step - loss: 0.0081 - accuracy: 0.9975\n",
            "Epoch 66/100\n",
            "938/938 [==============================] - 5s 5ms/step - loss: 0.0099 - accuracy: 0.9969\n",
            "Epoch 67/100\n",
            "938/938 [==============================] - 6s 6ms/step - loss: 0.0071 - accuracy: 0.9977\n",
            "Epoch 68/100\n",
            "938/938 [==============================] - 5s 5ms/step - loss: 0.0090 - accuracy: 0.9973\n",
            "Epoch 69/100\n",
            "938/938 [==============================] - 5s 5ms/step - loss: 0.0092 - accuracy: 0.9972\n",
            "Epoch 70/100\n",
            "938/938 [==============================] - 6s 6ms/step - loss: 0.0071 - accuracy: 0.9977\n",
            "Epoch 71/100\n",
            "938/938 [==============================] - 5s 5ms/step - loss: 0.0080 - accuracy: 0.9975\n",
            "Epoch 72/100\n",
            "938/938 [==============================] - 6s 7ms/step - loss: 0.0102 - accuracy: 0.9968\n",
            "Epoch 73/100\n",
            "938/938 [==============================] - 5s 5ms/step - loss: 0.0069 - accuracy: 0.9978\n",
            "Epoch 74/100\n",
            "938/938 [==============================] - 6s 6ms/step - loss: 0.0081 - accuracy: 0.9974\n",
            "Epoch 75/100\n",
            "938/938 [==============================] - 4s 5ms/step - loss: 0.0093 - accuracy: 0.9971\n",
            "Epoch 76/100\n",
            "938/938 [==============================] - 4s 5ms/step - loss: 0.0066 - accuracy: 0.9980\n",
            "Epoch 77/100\n",
            "938/938 [==============================] - 6s 6ms/step - loss: 0.0095 - accuracy: 0.9972\n",
            "Epoch 78/100\n",
            "938/938 [==============================] - 4s 5ms/step - loss: 0.0070 - accuracy: 0.9977\n",
            "Epoch 79/100\n",
            "938/938 [==============================] - 5s 5ms/step - loss: 0.0088 - accuracy: 0.9974\n",
            "Epoch 80/100\n",
            "938/938 [==============================] - 5s 6ms/step - loss: 0.0070 - accuracy: 0.9978\n",
            "Epoch 81/100\n",
            "938/938 [==============================] - 5s 5ms/step - loss: 0.0076 - accuracy: 0.9975\n",
            "Epoch 82/100\n",
            "938/938 [==============================] - 6s 6ms/step - loss: 0.0078 - accuracy: 0.9977\n",
            "Epoch 83/100\n",
            "938/938 [==============================] - 5s 5ms/step - loss: 0.0074 - accuracy: 0.9977\n",
            "Epoch 84/100\n",
            "938/938 [==============================] - 6s 6ms/step - loss: 0.0085 - accuracy: 0.9974\n",
            "Epoch 85/100\n",
            "938/938 [==============================] - 5s 5ms/step - loss: 0.0079 - accuracy: 0.9976\n",
            "Epoch 86/100\n",
            "938/938 [==============================] - 5s 5ms/step - loss: 0.0072 - accuracy: 0.9978\n",
            "Epoch 87/100\n",
            "938/938 [==============================] - 6s 6ms/step - loss: 0.0061 - accuracy: 0.9980\n",
            "Epoch 88/100\n",
            "938/938 [==============================] - 5s 5ms/step - loss: 0.0066 - accuracy: 0.9980\n",
            "Epoch 89/100\n",
            "938/938 [==============================] - 6s 6ms/step - loss: 0.0099 - accuracy: 0.9970\n",
            "Epoch 90/100\n",
            "938/938 [==============================] - 5s 5ms/step - loss: 0.0066 - accuracy: 0.9979\n",
            "Epoch 91/100\n",
            "938/938 [==============================] - 5s 5ms/step - loss: 0.0038 - accuracy: 0.9989\n",
            "Epoch 92/100\n",
            "938/938 [==============================] - 6s 6ms/step - loss: 0.0093 - accuracy: 0.9973\n",
            "Epoch 93/100\n",
            "938/938 [==============================] - 5s 5ms/step - loss: 0.0062 - accuracy: 0.9981\n",
            "Epoch 94/100\n",
            "938/938 [==============================] - 6s 6ms/step - loss: 0.0093 - accuracy: 0.9974\n",
            "Epoch 95/100\n",
            "938/938 [==============================] - 5s 5ms/step - loss: 0.0064 - accuracy: 0.9980\n",
            "Epoch 96/100\n",
            "938/938 [==============================] - 7s 7ms/step - loss: 0.0071 - accuracy: 0.9979\n",
            "Epoch 97/100\n",
            "938/938 [==============================] - 5s 5ms/step - loss: 0.0071 - accuracy: 0.9977\n",
            "Epoch 98/100\n",
            "938/938 [==============================] - 5s 6ms/step - loss: 0.0058 - accuracy: 0.9982\n",
            "Epoch 99/100\n",
            "938/938 [==============================] - 6s 6ms/step - loss: 0.0058 - accuracy: 0.9981\n",
            "Epoch 100/100\n",
            "938/938 [==============================] - 5s 5ms/step - loss: 0.0091 - accuracy: 0.9974\n"
          ]
        },
        {
          "output_type": "execute_result",
          "data": {
            "text/plain": [
              "<keras.callbacks.History at 0x7fd5f3b21bb0>"
            ]
          },
          "metadata": {},
          "execution_count": 16
        }
      ]
    },
    {
      "cell_type": "code",
      "source": [
        "# After Augmentation\n",
        "\n",
        "test_loss, test_acc = model.evaluate(x_test, y_test)\n",
        "print(augmented_images.shape)\n",
        "print('Test accuracy after augmentation:', test_acc)"
      ],
      "metadata": {
        "colab": {
          "base_uri": "https://localhost:8080/"
        },
        "id": "vK7lDK2u-wSt",
        "outputId": "2de95387-6a54-430f-bff0-e88479ab07b1"
      },
      "execution_count": null,
      "outputs": [
        {
          "output_type": "stream",
          "name": "stdout",
          "text": [
            "313/313 [==============================] - 1s 2ms/step - loss: 0.1687 - accuracy: 0.9812\n",
            "(120000, 28, 28, 1)\n",
            "Test accuracy after augmentation: 0.9811999797821045\n"
          ]
        }
      ]
    },
    {
      "cell_type": "code",
      "source": [
        "# Print Test accuracy after augmentation\n",
        "print('Test accuracy after augmentation:', test_acc*100, \"%\")\n"
      ],
      "metadata": {
        "colab": {
          "base_uri": "https://localhost:8080/"
        },
        "id": "BoBWQ0ZF76x0",
        "outputId": "7502eb47-97f7-4d21-b859-f11745d9f260"
      },
      "execution_count": null,
      "outputs": [
        {
          "output_type": "stream",
          "name": "stdout",
          "text": [
            "Test accuracy after augmentation: 98.11999797821045 %\n"
          ]
        }
      ]
    },
    {
      "cell_type": "code",
      "source": [
        "# plot digit after training\n",
        "fig = plt.figure(figsize=(15, 2))\n",
        "print(augmented_images.shape)\n",
        "for i, image in enumerate(augmented_images[:10]):\n",
        "  \n",
        "    # Create a new subplot for each image\n",
        "    plt.subplot(1, 10, i+1)\n",
        "    plt.xticks([])\n",
        "    plt.yticks([])\n",
        "    plt.grid(False)\n",
        "    plt.imshow(image, cmap=plt.cm.binary)\n",
        "    plt.xlabel(y_train[i])\n",
        "\n",
        "\n",
        "plt.show()"
      ],
      "metadata": {
        "colab": {
          "base_uri": "https://localhost:8080/",
          "height": 148
        },
        "id": "mlAu_-0J5Ygg",
        "outputId": "289e05a2-3171-4be2-98ee-ca5e00a32277"
      },
      "execution_count": null,
      "outputs": [
        {
          "output_type": "stream",
          "name": "stdout",
          "text": [
            "(120000, 28, 28, 1)\n"
          ]
        },
        {
          "output_type": "display_data",
          "data": {
            "text/plain": [
              "<Figure size 1500x200 with 10 Axes>"
            ],
            "image/png": "[encoded data removed]"
          },
          "metadata": {}
        }
      ]
    },
    {
      "cell_type": "code",
      "source": [],
      "metadata": {
        "id": "swxfIBDu82wF"
      },
      "execution_count": null,
      "outputs": []
    }
  ]
}